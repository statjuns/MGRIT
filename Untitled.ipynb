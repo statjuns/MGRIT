{
 "cells": [
  {
   "cell_type": "code",
   "execution_count": 25,
   "id": "e183cd85",
   "metadata": {},
   "outputs": [],
   "source": [
    "from transformers import AutoModelForSequenceClassification, AutoTokenizer\n",
    "import torch"
   ]
  },
  {
   "cell_type": "code",
   "execution_count": 26,
   "id": "b2033ab4",
   "metadata": {},
   "outputs": [],
   "source": [
    "\n",
    "model = AutoModelForSequenceClassification.from_pretrained(pretrained_model_name_or_path ='distilbert-base-uncased-finetuned-sst-2-english')"
   ]
  },
  {
   "cell_type": "code",
   "execution_count": 27,
   "id": "34a07e5b",
   "metadata": {},
   "outputs": [],
   "source": [
    "tokenizer = AutoTokenizer.from_pretrained(pretrained_model_name_or_path ='distilbert-base-uncased-finetuned-sst-2-english')\n",
    "\n"
   ]
  },
  {
   "cell_type": "code",
   "execution_count": 28,
   "id": "7cc1e968",
   "metadata": {},
   "outputs": [],
   "source": [
    "input_string =['i can do it']"
   ]
  },
  {
   "cell_type": "code",
   "execution_count": 29,
   "id": "30d779e2",
   "metadata": {},
   "outputs": [],
   "source": [
    "encoded_input = tokenizer.batch_encode_plus(input_string)"
   ]
  },
  {
   "cell_type": "code",
   "execution_count": 30,
   "id": "2f503508",
   "metadata": {},
   "outputs": [
    {
     "data": {
      "text/plain": [
       "{'input_ids': [[101, 1045, 2064, 2079, 2009, 102]], 'attention_mask': [[1, 1, 1, 1, 1, 1]]}"
      ]
     },
     "execution_count": 30,
     "metadata": {},
     "output_type": "execute_result"
    }
   ],
   "source": [
    "encoded_input"
   ]
  },
  {
   "cell_type": "code",
   "execution_count": 33,
   "id": "44f05da2",
   "metadata": {},
   "outputs": [],
   "source": [
    "output = model(input_ids=torch.tensor(encoded_input['input_ids']), \n",
    "      \n",
    "      attention_mask=torch.tensor(encoded_input['attention_mask']))"
   ]
  },
  {
   "cell_type": "code",
   "execution_count": 34,
   "id": "db44edb6",
   "metadata": {},
   "outputs": [
    {
     "data": {
      "text/plain": [
       "tensor([[-4.1017,  4.3761]], grad_fn=<AddmmBackward>)"
      ]
     },
     "execution_count": 34,
     "metadata": {},
     "output_type": "execute_result"
    }
   ],
   "source": [
    "output['logits']"
   ]
  },
  {
   "cell_type": "code",
   "execution_count": 60,
   "id": "0f92721e",
   "metadata": {},
   "outputs": [],
   "source": [
    "label = [0]"
   ]
  },
  {
   "cell_type": "code",
   "execution_count": 61,
   "id": "cc160196",
   "metadata": {},
   "outputs": [],
   "source": [
    "loss_func = torch.nn.CrossEntropyLoss()"
   ]
  },
  {
   "cell_type": "code",
   "execution_count": 62,
   "id": "14c8997b",
   "metadata": {},
   "outputs": [
    {
     "data": {
      "text/plain": [
       "torch.Size([1, 2])"
      ]
     },
     "execution_count": 62,
     "metadata": {},
     "output_type": "execute_result"
    }
   ],
   "source": [
    "output['logits'].shape"
   ]
  },
  {
   "cell_type": "code",
   "execution_count": 63,
   "id": "ae869a51",
   "metadata": {},
   "outputs": [
    {
     "data": {
      "text/plain": [
       "torch.Size([1])"
      ]
     },
     "execution_count": 63,
     "metadata": {},
     "output_type": "execute_result"
    }
   ],
   "source": [
    "torch.tensor(label).shape"
   ]
  },
  {
   "cell_type": "code",
   "execution_count": 65,
   "id": "00079269",
   "metadata": {},
   "outputs": [],
   "source": [
    "loss = loss_func(output['logits'], torch.tensor(label))"
   ]
  },
  {
   "cell_type": "code",
   "execution_count": 66,
   "id": "2a3cf7b7",
   "metadata": {},
   "outputs": [],
   "source": [
    "loss.backward()"
   ]
  },
  {
   "cell_type": "code",
   "execution_count": null,
   "id": "532f9da7",
   "metadata": {},
   "outputs": [],
   "source": []
  }
 ],
 "metadata": {
  "kernelspec": {
   "display_name": "attngan",
   "language": "python",
   "name": "attngan"
  },
  "language_info": {
   "codemirror_mode": {
    "name": "ipython",
    "version": 3
   },
   "file_extension": ".py",
   "mimetype": "text/x-python",
   "name": "python",
   "nbconvert_exporter": "python",
   "pygments_lexer": "ipython3",
   "version": "3.8.5"
  }
 },
 "nbformat": 4,
 "nbformat_minor": 5
}
